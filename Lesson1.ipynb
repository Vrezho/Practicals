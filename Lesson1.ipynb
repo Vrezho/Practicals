{
 "cells": [
  {
   "cell_type": "markdown",
   "id": "bfcc87b2-712a-4f22-ad57-75115c68f8a4",
   "metadata": {},
   "source": [
    "Digit sum 3"
   ]
  },
  {
   "cell_type": "markdown",
   "id": "f8d853c2-8cbb-4353-87e8-5df6493dbdc0",
   "metadata": {},
   "source": [
    "Solution 1"
   ]
  },
  {
   "cell_type": "code",
   "execution_count": 5,
   "id": "be0529dd-d3f1-4029-a733-74ca472281e1",
   "metadata": {},
   "outputs": [
    {
     "name": "stdin",
     "output_type": "stream",
     "text": [
      " 487\n"
     ]
    },
    {
     "name": "stdout",
     "output_type": "stream",
     "text": [
      "19\n"
     ]
    }
   ],
   "source": [
    "number = int(input())\n",
    "\n",
    "sum_of_digits = 0\n",
    "for digit in str(number):\n",
    "    sum_of_digits += int(digit)\n",
    "    \n",
    "print(sum_of_digits)"
   ]
  },
  {
   "cell_type": "markdown",
   "id": "ae05d8e3-8463-4265-b8b5-70afed09a27f",
   "metadata": {},
   "source": [
    "Solution 2"
   ]
  },
  {
   "cell_type": "code",
   "execution_count": 6,
   "id": "d5a641e4-0630-4362-9b63-f663ed2051e9",
   "metadata": {},
   "outputs": [
    {
     "name": "stdin",
     "output_type": "stream",
     "text": [
      " 487\n"
     ]
    },
    {
     "name": "stdout",
     "output_type": "stream",
     "text": [
      "19\n"
     ]
    }
   ],
   "source": [
    "number = int(input())\n",
    "sum_of_digits = 0\n",
    "\n",
    "while (number != 0):\n",
    "    sum_of_digits = sum_of_digits + number % 10\n",
    "    number = number // 10\n",
    "    \n",
    "print(sum_of_digits)"
   ]
  },
  {
   "cell_type": "markdown",
   "id": "ca0cbdd8-ad02-420e-bc8f-391943998076",
   "metadata": {},
   "source": [
    "Arithmetic Progression"
   ]
  },
  {
   "cell_type": "code",
   "execution_count": 11,
   "id": "3c4d355b-f9c8-45d0-b751-5e0e8972ea77",
   "metadata": {},
   "outputs": [
    {
     "name": "stdin",
     "output_type": "stream",
     "text": [
      " 4\n",
      " 5\n",
      " 8\n"
     ]
    },
    {
     "name": "stdout",
     "output_type": "stream",
     "text": [
      "11\n"
     ]
    }
   ],
   "source": [
    "a_1 = int(input())\n",
    "a_2 = int(input())\n",
    "n = int(input())\n",
    "a_n = a_1 + (n-1)*(a_2-a_1)\n",
    "print(a_n)"
   ]
  },
  {
   "cell_type": "markdown",
   "id": "3a778052-78e7-42da-af21-0b27fb21e147",
   "metadata": {},
   "source": [
    "Boring numbers"
   ]
  },
  {
   "cell_type": "markdown",
   "id": "02462036-612e-4568-a5e8-4e0b6c18cf01",
   "metadata": {},
   "source": [
    "Solution 1"
   ]
  },
  {
   "cell_type": "code",
   "execution_count": 13,
   "id": "6e768451-ade6-4ae3-b273-1e09bc3e4f2a",
   "metadata": {},
   "outputs": [
    {
     "name": "stdin",
     "output_type": "stream",
     "text": [
      " 77777\n"
     ]
    },
    {
     "name": "stdout",
     "output_type": "stream",
     "text": [
      "Boring\n"
     ]
    }
   ],
   "source": [
    "number = int (input())\n",
    "\n",
    "for i in range(len(str(number))-1):\n",
    "    if int(str(number)[i]) != int(str(number)[i+1]):\n",
    "        print(\"interesting number\")\n",
    "        break\n",
    "else:\n",
    "    print(\"Boring\")"
   ]
  },
  {
   "cell_type": "markdown",
   "id": "ef586d93-b5af-425d-bf9a-23009d9bca61",
   "metadata": {},
   "source": [
    "Solution 2\n"
   ]
  },
  {
   "cell_type": "code",
   "execution_count": 15,
   "id": "15757749-9317-45cd-81ce-0d88c3c66b16",
   "metadata": {},
   "outputs": [
    {
     "name": "stdin",
     "output_type": "stream",
     "text": [
      " 7776\n"
     ]
    },
    {
     "name": "stdout",
     "output_type": "stream",
     "text": [
      "Interesting\n"
     ]
    }
   ],
   "source": [
    "number = int(input())\n",
    "\n",
    "if number < 10:\n",
    "    print(\"boring\")\n",
    "else:\n",
    "    while number > 10:\n",
    "        if number % 10 != (number // 10) % 10:\n",
    "            print(\"Interesting\")\n",
    "            break\n",
    "        number = number // 10\n",
    "    else:\n",
    "        print(\"Boring\")\n",
    "    "
   ]
  }
 ],
 "metadata": {
  "kernelspec": {
   "display_name": "Python 3 (ipykernel)",
   "language": "python",
   "name": "python3"
  },
  "language_info": {
   "codemirror_mode": {
    "name": "ipython",
    "version": 3
   },
   "file_extension": ".py",
   "mimetype": "text/x-python",
   "name": "python",
   "nbconvert_exporter": "python",
   "pygments_lexer": "ipython3",
   "version": "3.8.10"
  }
 },
 "nbformat": 4,
 "nbformat_minor": 5
}
